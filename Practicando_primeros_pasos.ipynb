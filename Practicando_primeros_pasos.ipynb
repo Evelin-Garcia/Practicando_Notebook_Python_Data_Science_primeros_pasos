{
  "nbformat": 4,
  "nbformat_minor": 0,
  "metadata": {
    "colab": {
      "provenance": [],
      "authorship_tag": "ABX9TyP1sbqv7cxjfzkzjokE0bKN",
      "include_colab_link": true
    },
    "kernelspec": {
      "name": "python3",
      "display_name": "Python 3"
    },
    "language_info": {
      "name": "python"
    }
  },
  "cells": [
    {
      "cell_type": "markdown",
      "metadata": {
        "id": "view-in-github",
        "colab_type": "text"
      },
      "source": [
        "<a href=\"https://colab.research.google.com/github/Evelin-Garcia/Practicando_Notebook_Python_Data_Science_primeros_pasos/blob/main/Practicando_primeros_pasos.ipynb\" target=\"_parent\"><img src=\"https://colab.research.google.com/assets/colab-badge.svg\" alt=\"Open In Colab\"/></a>"
      ]
    },
    {
      "cell_type": "markdown",
      "source": [
        "#Operatoria en Python"
      ],
      "metadata": {
        "id": "C79SnjNS7ywv"
      }
    },
    {
      "cell_type": "markdown",
      "source": [
        "#Exponenciación (**)\n",
        "Podemos elevar un número a una potencia específica utilizando el operador **\n",
        "Por ejemplo, sabemos que 2 elevado a la 3 es igual a 8 (2 * 2 * 2 = 8). Para realizar este cálculo, escribimos:\n",
        "\n"
      ],
      "metadata": {
        "id": "U8fs5y_zTits"
      }
    },
    {
      "cell_type": "code",
      "execution_count": 1,
      "metadata": {
        "colab": {
          "base_uri": "https://localhost:8080/"
        },
        "id": "WTVdSiEDTTAj",
        "outputId": "a56da128-aa75-459f-f5fa-617043cf6f80"
      },
      "outputs": [
        {
          "output_type": "execute_result",
          "data": {
            "text/plain": [
              "8"
            ]
          },
          "metadata": {},
          "execution_count": 1
        }
      ],
      "source": [
        "2**3"
      ]
    },
    {
      "cell_type": "code",
      "source": [
        "operador = 2\n",
        "potencia = 3\n",
        "resultado = operador ** potencia\n",
        "print(resultado)"
      ],
      "metadata": {
        "colab": {
          "base_uri": "https://localhost:8080/"
        },
        "id": "OGGfjQTwT8PU",
        "outputId": "bf5bb814-b080-45fa-b2bd-661799ab889f"
      },
      "execution_count": 2,
      "outputs": [
        {
          "output_type": "stream",
          "name": "stdout",
          "text": [
            "8\n"
          ]
        }
      ]
    },
    {
      "cell_type": "markdown",
      "source": [
        "#Módulo (%)\n",
        "El operador de módulo % puede devolver el residuo de una división entera entre dos números. Recuerda que el residuo de una división es el número que queda cuando la división no es exacta."
      ],
      "metadata": {
        "id": "q5U1cj9uUSQ-"
      }
    },
    {
      "cell_type": "code",
      "source": [
        "7%3"
      ],
      "metadata": {
        "colab": {
          "base_uri": "https://localhost:8080/"
        },
        "id": "RcFaUawnUJIp",
        "outputId": "85b79574-278f-4a77-e234-1dfb05730c8b"
      },
      "execution_count": 3,
      "outputs": [
        {
          "output_type": "execute_result",
          "data": {
            "text/plain": [
              "1"
            ]
          },
          "metadata": {},
          "execution_count": 3
        }
      ]
    },
    {
      "cell_type": "code",
      "source": [
        "dividendo = 7\n",
        "divisor = 3\n",
        "dividendo % divisor"
      ],
      "metadata": {
        "colab": {
          "base_uri": "https://localhost:8080/"
        },
        "id": "T736EJS0UpfE",
        "outputId": "cf3b3783-8e38-4776-a1a9-7172db0ad218"
      },
      "execution_count": 4,
      "outputs": [
        {
          "output_type": "execute_result",
          "data": {
            "text/plain": [
              "1"
            ]
          },
          "metadata": {},
          "execution_count": 4
        }
      ]
    },
    {
      "cell_type": "markdown",
      "source": [
        "#Division entera (//)\n",
        "Esta operación devuelve el resultado de la división entera entre dos números, es decir, solo devuelve la parte entera de una división. Por ejemplo, sabemos que la división exacta de 7 por 3 (7/3) resulta en el valor 2.333333.... Si esta fuera una división entera, el resultado sería simplemente 2."
      ],
      "metadata": {
        "id": "65ShwYiUU68u"
      }
    },
    {
      "cell_type": "code",
      "source": [
        "7 // 3"
      ],
      "metadata": {
        "colab": {
          "base_uri": "https://localhost:8080/"
        },
        "id": "mzvbfkwcUuTu",
        "outputId": "759ab9b2-baa4-4485-fc51-8fc63aaf98f9"
      },
      "execution_count": 5,
      "outputs": [
        {
          "output_type": "execute_result",
          "data": {
            "text/plain": [
              "2"
            ]
          },
          "metadata": {},
          "execution_count": 5
        }
      ]
    },
    {
      "cell_type": "code",
      "source": [
        "numerador = 7\n",
        "denominador = 3\n",
        "numerador // denominador"
      ],
      "metadata": {
        "colab": {
          "base_uri": "https://localhost:8080/"
        },
        "id": "jlVYiu3eVI2X",
        "outputId": "5924ca31-3fe3-4275-c559-5107a3050bb3"
      },
      "execution_count": 7,
      "outputs": [
        {
          "output_type": "execute_result",
          "data": {
            "text/plain": [
              "2"
            ]
          },
          "metadata": {},
          "execution_count": 7
        }
      ]
    },
    {
      "cell_type": "markdown",
      "source": [
        "Ahora realizaremos un ejemplo de cómo ingresar datos, indicando su tipo y cómo presentarlos posteriormente usando f strings (formateo de cadena) para su mejor visualización (usaremos también saltos de línea y tabulaciones)"
      ],
      "metadata": {
        "id": "Qfb72akqZ8Ve"
      }
    },
    {
      "cell_type": "code",
      "source": [
        "ano_curso_python = int(input('En qué año realizaste el curso de Python?: '))"
      ],
      "metadata": {
        "colab": {
          "base_uri": "https://localhost:8080/"
        },
        "id": "bGMy0fKOaP_y",
        "outputId": "50ca946d-7f34-4cf6-a28f-1ea7a7ed7de0"
      },
      "execution_count": 11,
      "outputs": [
        {
          "name": "stdout",
          "output_type": "stream",
          "text": [
            "En qué año realizaste el curso de Python?: 2024\n"
          ]
        }
      ]
    },
    {
      "cell_type": "code",
      "source": [
        "nota_certificacion = float(input('¿Qué nota obtuviste en la certificación?: '))"
      ],
      "metadata": {
        "colab": {
          "base_uri": "https://localhost:8080/"
        },
        "id": "ErEt8pqtapzE",
        "outputId": "4443df65-ad06-40e6-8029-f407b9c71b51"
      },
      "execution_count": 9,
      "outputs": [
        {
          "name": "stdout",
          "output_type": "stream",
          "text": [
            "¿Qué nota obtuviste en la certificación?: 5.8\n"
          ]
        }
      ]
    },
    {
      "cell_type": "code",
      "source": [
        "print(f'\\tRealizaste el curso de Python en el año {ano_curso_python}\\n\\tTu nota de certificación fue: {nota_certificacion}')"
      ],
      "metadata": {
        "colab": {
          "base_uri": "https://localhost:8080/"
        },
        "id": "pzNWSAdwazGa",
        "outputId": "10f914ef-9e7f-4891-dee2-083e23ef233e"
      },
      "execution_count": 12,
      "outputs": [
        {
          "output_type": "stream",
          "name": "stdout",
          "text": [
            "\tRealizaste el curso de Python en el año 2024\n",
            "\tTu nota de certificación fue: 5.8\n"
          ]
        }
      ]
    },
    {
      "cell_type": "markdown",
      "source": [
        "##Dato útil:\n",
        "Podemos imprimir un elemento de la tabla Unicode en nuestro cuaderno utilizando la función chr, que devuelve una cadena con el carácter especificado. Su sintaxis es la siguiente: chr(número_del_carácter). Por ejemplo, vamos a imprimir el carácter \"@\" con chr(). Según la tabla, sabemos que \"@\" corresponde al número 64, así que lo reprodujimos:"
      ],
      "metadata": {
        "id": "Sqc0lZNecZ2e"
      }
    },
    {
      "cell_type": "code",
      "source": [
        "chr(64)"
      ],
      "metadata": {
        "colab": {
          "base_uri": "https://localhost:8080/",
          "height": 35
        },
        "id": "vptMS3NDbXQU",
        "outputId": "1b5b572e-5e77-411c-e402-a3cc5e3a2a77"
      },
      "execution_count": 13,
      "outputs": [
        {
          "output_type": "execute_result",
          "data": {
            "text/plain": [
              "'@'"
            ],
            "application/vnd.google.colaboratory.intrinsic+json": {
              "type": "string"
            }
          },
          "metadata": {},
          "execution_count": 13
        }
      ]
    },
    {
      "cell_type": "code",
      "source": [
        "chr(72) + chr(111) +  chr(108) + chr(97)"
      ],
      "metadata": {
        "colab": {
          "base_uri": "https://localhost:8080/",
          "height": 35
        },
        "id": "ylpbZZyXcQsx",
        "outputId": "d0dbf1fe-b6aa-4ad7-a028-962837b43319"
      },
      "execution_count": 14,
      "outputs": [
        {
          "output_type": "execute_result",
          "data": {
            "text/plain": [
              "'Hola'"
            ],
            "application/vnd.google.colaboratory.intrinsic+json": {
              "type": "string"
            }
          },
          "metadata": {},
          "execution_count": 14
        }
      ]
    },
    {
      "cell_type": "markdown",
      "source": [
        "#Prácticanto manipulación de datos con Python:"
      ],
      "metadata": {
        "id": "mBNgKfVNfJ-i"
      }
    },
    {
      "cell_type": "markdown",
      "source": [
        "1 - Crea un programa que solicite al usuario que escriba su nombre y luego imprima \"Hola, [nombre].\"\n"
      ],
      "metadata": {
        "id": "d88Niem6fVrd"
      }
    },
    {
      "cell_type": "code",
      "source": [
        "nombre = input('¿Cuál es tu nombre?:')\n",
        "saludo = print(f'Hola, {nombre}')"
      ],
      "metadata": {
        "colab": {
          "base_uri": "https://localhost:8080/"
        },
        "id": "JnUJCiOrcsOK",
        "outputId": "5a29f751-1163-479d-a32a-a335e1651aaf"
      },
      "execution_count": 15,
      "outputs": [
        {
          "output_type": "stream",
          "name": "stdout",
          "text": [
            "¿Cuál es tu nombre?:Evelin\n",
            "Hola, Evelin\n"
          ]
        }
      ]
    },
    {
      "cell_type": "markdown",
      "source": [
        "2 - Crea un programa que solicite al usuario que escriba su nombre y edad, y luego imprima \"Hola, [nombre], tienes [edad] años.\""
      ],
      "metadata": {
        "id": "T_0UZhJcgJh4"
      }
    },
    {
      "cell_type": "code",
      "source": [
        "nombre = input('¿Cuál es tu nombre?:')\n",
        "edad = int(input('¿Cuál es tu edad?:'))\n",
        "saludo = print(f'Hola, {nombre}, tienes {edad} años.')\n"
      ],
      "metadata": {
        "colab": {
          "base_uri": "https://localhost:8080/"
        },
        "id": "sANJgfbdgCLP",
        "outputId": "8809826c-7989-458a-9734-247821375997"
      },
      "execution_count": 16,
      "outputs": [
        {
          "output_type": "stream",
          "name": "stdout",
          "text": [
            "¿Cuál es tu nombre?:Evelin\n",
            "¿Cuál es tu edad?:46\n",
            "Hola, Evelin, tienes 46 años.\n"
          ]
        }
      ]
    },
    {
      "cell_type": "markdown",
      "source": [
        "3 - Crea un programa que solicite al usuario que escriba su nombre, edad y altura en metros, y luego imprima \"Hola, [nombre], tienes [edad] años y mides [altura] metros.\""
      ],
      "metadata": {
        "id": "OqUSLfSggmQF"
      }
    },
    {
      "cell_type": "code",
      "source": [
        "nombre = input('¿Cuál es tu nombre?:')\n",
        "edad = int(input('¿Cuál es tu edad?:'))\n",
        "altura = float(input('¿Cuál es tu altura?:'))\n",
        "saludo = print(f'Hola, {nombre}, tienes {edad} años y mides {altura} metros')"
      ],
      "metadata": {
        "colab": {
          "base_uri": "https://localhost:8080/"
        },
        "id": "TLOmQK9BgdvR",
        "outputId": "4cb30e51-76da-4081-b64d-c7457dc4965d"
      },
      "execution_count": 17,
      "outputs": [
        {
          "output_type": "stream",
          "name": "stdout",
          "text": [
            "¿Cuál es tu nombre?:Evelin\n",
            "¿Cuál es tu edad?:46\n",
            "¿Cuál es tu altura?:1.53\n",
            "Hola, Evelin, tienes 46 años y mides 1.53 metros\n"
          ]
        }
      ]
    },
    {
      "cell_type": "markdown",
      "source": [
        "4 - Crea un programa que solicite dos valores numéricos al usuario y luego imprima la suma de ambos valores."
      ],
      "metadata": {
        "id": "SvkaxOVBhAXe"
      }
    },
    {
      "cell_type": "code",
      "source": [
        "a = int(input('Escribe un número: '))\n",
        "b = int(input('Escribe otro número: '))\n",
        "print(a + b)"
      ],
      "metadata": {
        "colab": {
          "base_uri": "https://localhost:8080/"
        },
        "id": "jgjcmn8LhPUa",
        "outputId": "c14dcedd-dd7b-41e8-97a6-fade3f4bf02f"
      },
      "execution_count": 36,
      "outputs": [
        {
          "output_type": "stream",
          "name": "stdout",
          "text": [
            "Escribe un número: 4\n",
            "Escribe otro número: 5\n",
            "9\n"
          ]
        }
      ]
    },
    {
      "cell_type": "code",
      "source": [
        "del print"
      ],
      "metadata": {
        "id": "XK_SHTeql03n"
      },
      "execution_count": 35,
      "outputs": []
    },
    {
      "cell_type": "markdown",
      "source": [
        "5 - Crea un programa que solicite tres valores numéricos al usuario y luego imprima la suma de los tres valores."
      ],
      "metadata": {
        "id": "3Y7x_jfto33K"
      }
    },
    {
      "cell_type": "code",
      "source": [
        "a = int(input('Escribe un número: '))\n",
        "b = int(input('Escribe otro número: '))\n",
        "c = int(input('Escribe un tercer número: '))\n",
        "print(a + b + c)"
      ],
      "metadata": {
        "colab": {
          "base_uri": "https://localhost:8080/"
        },
        "id": "cVQpWsYqo8aG",
        "outputId": "b89dc04e-8947-4624-fa66-3b678fc8adc1"
      },
      "execution_count": 37,
      "outputs": [
        {
          "output_type": "stream",
          "name": "stdout",
          "text": [
            "Escribe un número: 1\n",
            "Escribe otro número: 2\n",
            "Escribe un tercer número: 3\n",
            "6\n"
          ]
        }
      ]
    },
    {
      "cell_type": "markdown",
      "source": [
        "6 - Crea un programa que solicite dos valores numéricos al usuario y luego imprima la resta del primero menos el segundo valor."
      ],
      "metadata": {
        "id": "bzvta8SgpOLr"
      }
    },
    {
      "cell_type": "code",
      "source": [
        "a = int(input('Escribe un número: '))\n",
        "b = int(input('Escribe otro número: '))\n",
        "print(a - b)"
      ],
      "metadata": {
        "colab": {
          "base_uri": "https://localhost:8080/"
        },
        "id": "nuQL6pe1pTxx",
        "outputId": "7ef93e33-4314-4ef1-ef79-397cbd39e834"
      },
      "execution_count": 38,
      "outputs": [
        {
          "output_type": "stream",
          "name": "stdout",
          "text": [
            "Escribe un número: 3\n",
            "Escribe otro número: 5\n",
            "-2\n"
          ]
        }
      ]
    },
    {
      "cell_type": "markdown",
      "source": [
        "7 - Crea un programa que solicite dos valores numéricos al usuario y luego imprima la multiplicación de los dos valores."
      ],
      "metadata": {
        "id": "42VM1pHqpil2"
      }
    },
    {
      "cell_type": "code",
      "source": [],
      "metadata": {
        "id": "RDm3sEEIpja9"
      },
      "execution_count": null,
      "outputs": []
    },
    {
      "cell_type": "code",
      "source": [
        "a = int(input('Escribe un número: '))\n",
        "b = int(input('Escribe otro número: '))\n",
        "print(a * b)"
      ],
      "metadata": {
        "colab": {
          "base_uri": "https://localhost:8080/"
        },
        "outputId": "d3a4f2ba-88dc-4b7e-dd24-17a42a1ff217",
        "id": "DTQLIq4qpmkT"
      },
      "execution_count": 39,
      "outputs": [
        {
          "output_type": "stream",
          "name": "stdout",
          "text": [
            "Escribe un número: 3\n",
            "Escribe otro número: 5\n",
            "15\n"
          ]
        }
      ]
    },
    {
      "cell_type": "markdown",
      "source": [
        "8 - Crea un programa que solicite dos valores numéricos, un numerador y un denominador, y realice la división entre los dos valores. Asegúrate de que el valor del denominador no sea igual a 0."
      ],
      "metadata": {
        "id": "LXEyMDLQSvu0"
      }
    },
    {
      "cell_type": "code",
      "source": [],
      "metadata": {
        "id": "GHzmLRcLpqv_"
      },
      "execution_count": null,
      "outputs": []
    },
    {
      "cell_type": "code",
      "source": [
        "a = int(input('Escribe el numerador: '))\n",
        "b = int(input('Escribe el denominador: '))\n",
        "print(a / b)"
      ],
      "metadata": {
        "colab": {
          "base_uri": "https://localhost:8080/"
        },
        "outputId": "59e534b3-10e1-4ea6-d3ff-1fcdb50dd65f",
        "id": "XLEYVR5aS41O"
      },
      "execution_count": 9,
      "outputs": [
        {
          "output_type": "stream",
          "name": "stdout",
          "text": [
            "Escribe el numerador: 5\n",
            "Escribe el denominador: 3\n",
            "1.6666666666666667\n"
          ]
        }
      ]
    },
    {
      "cell_type": "markdown",
      "source": [
        "9 - Crea un programa que solicite dos valores numéricos, un operador y una potencia, y realice la exponenciación entre estos dos valores."
      ],
      "metadata": {
        "id": "5N1R9upiTDo-"
      }
    },
    {
      "cell_type": "code",
      "source": [
        "a = int(input('Escribe el valor del operador: '))\n",
        "b = int(input('Escribe el valor de la potencia: '))\n",
        "print(a ** b)"
      ],
      "metadata": {
        "colab": {
          "base_uri": "https://localhost:8080/"
        },
        "id": "-6GN-Gz6TF0b",
        "outputId": "d2429061-7cd7-4f24-fd56-f457a2262ff9"
      },
      "execution_count": 8,
      "outputs": [
        {
          "output_type": "stream",
          "name": "stdout",
          "text": [
            "Escribe el valor del operador: 2\n",
            "Escribe el valor de la potencia: 3\n",
            "8\n"
          ]
        }
      ]
    },
    {
      "cell_type": "markdown",
      "source": [
        "10 - Crea un programa que solicite dos valores numéricos, un numerador y un denominador, y realice la división entera entre los dos valores. Asegúrate de que el valor del denominador no sea igual a 0."
      ],
      "metadata": {
        "id": "zTQJUrJZTSK7"
      }
    },
    {
      "cell_type": "code",
      "source": [
        "a = int(input('Escribe el numerador: '))\n",
        "b = int(input('Escribe el denominador: '))\n",
        "print(a // b)"
      ],
      "metadata": {
        "colab": {
          "base_uri": "https://localhost:8080/"
        },
        "id": "A4ZWGjinTMgJ",
        "outputId": "04df8262-a304-4c5a-e5c7-cf955e0b37be"
      },
      "execution_count": 7,
      "outputs": [
        {
          "output_type": "stream",
          "name": "stdout",
          "text": [
            "Escribe el numerador: 5\n",
            "Escribe el denominador: 2\n",
            "2\n"
          ]
        }
      ]
    },
    {
      "cell_type": "markdown",
      "source": [
        "11 - Crea un programa que solicite dos valores numéricos, un numerador y un denominador, y devuelva el resto de la división entre los dos valores. Asegúrate de que el valor del denominador no sea igual a 0."
      ],
      "metadata": {
        "id": "OBCYdfLAT51W"
      }
    },
    {
      "cell_type": "code",
      "source": [
        "a = int(input('Escribe el numerador: '))\n",
        "b = int(input('Escribe el denominador: '))\n",
        "print(a % b)"
      ],
      "metadata": {
        "colab": {
          "base_uri": "https://localhost:8080/"
        },
        "id": "uQKSW9AzTZka",
        "outputId": "30784139-e0e3-4ba6-ed52-57ebb4469d2c"
      },
      "execution_count": 10,
      "outputs": [
        {
          "output_type": "stream",
          "name": "stdout",
          "text": [
            "Escribe el numerador: 5\n",
            "Escribe el denominador: 3\n",
            "2\n"
          ]
        }
      ]
    },
    {
      "cell_type": "markdown",
      "source": [
        "12 - Crea un código que solicite las 3 notas de un estudiante e imprima el promedio de las notas."
      ],
      "metadata": {
        "id": "J-Ibqu00UEjY"
      }
    },
    {
      "cell_type": "code",
      "source": [
        "a = int(input('Escribe una nota: '))\n",
        "b = int(input('Escribe la segunda nota: '))\n",
        "c = int(input('Escribe la tercera nota: '))\n",
        "print((a + b + c) / 3)"
      ],
      "metadata": {
        "colab": {
          "base_uri": "https://localhost:8080/"
        },
        "id": "8Fo02GfgUCV_",
        "outputId": "dfb237bd-2018-475f-dd54-85c6b0d55b3d"
      },
      "execution_count": 11,
      "outputs": [
        {
          "output_type": "stream",
          "name": "stdout",
          "text": [
            "Escribe una nota: 6\n",
            "Escribe la segunda nota: 6\n",
            "Escribe la tercera nota: 7\n",
            "6.333333333333333\n"
          ]
        }
      ]
    },
    {
      "cell_type": "markdown",
      "source": [
        "13 - Crea un código que calcule e imprima el promedio ponderado de los números 5, 12, 20 y 15 con pesos respectivamente iguales a 1, 2, 3 y 4."
      ],
      "metadata": {
        "id": "pHMwdfh_UVyT"
      }
    },
    {
      "cell_type": "code",
      "source": [
        "media_ponderada = (5*1 + 12*2 + 20*3 + 15*4) / (1+2+3+4)\n",
        "print(f'Media {media_ponderada}.')"
      ],
      "metadata": {
        "colab": {
          "base_uri": "https://localhost:8080/"
        },
        "id": "80-wA5_dURJw",
        "outputId": "5b33e3f4-9458-4c2f-b1ef-55f07ca0e85d"
      },
      "execution_count": 12,
      "outputs": [
        {
          "output_type": "stream",
          "name": "stdout",
          "text": [
            "Media 14.9.\n"
          ]
        }
      ]
    },
    {
      "cell_type": "markdown",
      "source": [
        "#Editando textos"
      ],
      "metadata": {
        "id": "6ncsUqBzVoeB"
      }
    },
    {
      "cell_type": "markdown",
      "source": [
        "14 - Crea una variable llamada \"frase\" y asígnale una cadena de texto de tu elección. Luego, imprime la frase en pantalla."
      ],
      "metadata": {
        "id": "DYAld_JUVvnD"
      }
    },
    {
      "cell_type": "code",
      "source": [
        "frase = \"Hola Mundo, ahora en Data Science\"\n",
        "print(frase)"
      ],
      "metadata": {
        "colab": {
          "base_uri": "https://localhost:8080/"
        },
        "id": "1cMD3aj4VjiM",
        "outputId": "babb1eaf-9c09-4577-cfa2-edc241effc99"
      },
      "execution_count": 13,
      "outputs": [
        {
          "output_type": "stream",
          "name": "stdout",
          "text": [
            "Hola Mundo, ahora en Data Science\n"
          ]
        }
      ]
    },
    {
      "cell_type": "markdown",
      "source": [
        "15 - Crea un código que solicite una frase y luego imprima la frase en pantalla."
      ],
      "metadata": {
        "id": "OXBstZzLWEKe"
      }
    },
    {
      "cell_type": "code",
      "source": [
        "frase = input('Escribe una frase: ')\n",
        "print(frase)"
      ],
      "metadata": {
        "colab": {
          "base_uri": "https://localhost:8080/"
        },
        "id": "689n4I1lV_wM",
        "outputId": "8f183e7f-ccd3-4eeb-ba50-19e6644272a6"
      },
      "execution_count": 14,
      "outputs": [
        {
          "output_type": "stream",
          "name": "stdout",
          "text": [
            "Escribe una frase: Hola\n",
            "Hola\n"
          ]
        }
      ]
    },
    {
      "cell_type": "markdown",
      "source": [
        "16 - Crea un código que solicite una frase al usuario y luego imprima la misma frase ingresada pero en mayúsculas."
      ],
      "metadata": {
        "id": "JA5WX3KmWXJk"
      }
    },
    {
      "cell_type": "code",
      "source": [
        "frase_mayus = input('Escribe una frase: ').upper()\n",
        "print(frase_mayus)"
      ],
      "metadata": {
        "colab": {
          "base_uri": "https://localhost:8080/"
        },
        "id": "P7g_D7jZWNd4",
        "outputId": "f3967b66-e372-4ea4-d2b2-f9bbf5e895a3"
      },
      "execution_count": 15,
      "outputs": [
        {
          "output_type": "stream",
          "name": "stdout",
          "text": [
            "Escribe una frase: Hola\n",
            "HOLA\n"
          ]
        }
      ]
    },
    {
      "cell_type": "markdown",
      "source": [
        "17 - Crea un código que solicite una frase al usuario y luego imprima la misma frase ingresada pero en minúsculas."
      ],
      "metadata": {
        "id": "VAkxkaGWWnVn"
      }
    },
    {
      "cell_type": "code",
      "source": [
        "frase_mins = input('Escribe una frase: ').lower()\n",
        "print(frase_mins)"
      ],
      "metadata": {
        "colab": {
          "base_uri": "https://localhost:8080/"
        },
        "id": "eWuUdh1CWiAy",
        "outputId": "dd8409c9-746d-4099-b8eb-5b37d92bfcc8"
      },
      "execution_count": 16,
      "outputs": [
        {
          "output_type": "stream",
          "name": "stdout",
          "text": [
            "Escribe una frase: Hola MUNDO\n",
            "hola mundo\n"
          ]
        }
      ]
    },
    {
      "cell_type": "markdown",
      "source": [
        "18 - Crea una variable llamada \"frase\" y asígnale una cadena de texto de tu elección. Luego, imprime la frase sin espacios en blanco al principio y al final."
      ],
      "metadata": {
        "id": "CoWDrUABXCXn"
      }
    },
    {
      "cell_type": "code",
      "source": [
        "frase = '    Hola Mundo, ahora en Data Science    '\n",
        "print(frase.strip())"
      ],
      "metadata": {
        "colab": {
          "base_uri": "https://localhost:8080/"
        },
        "id": "BUNcWFElXhCY",
        "outputId": "9b18741c-4e42-4871-d393-dc935c3ea7f9"
      },
      "execution_count": 23,
      "outputs": [
        {
          "output_type": "stream",
          "name": "stdout",
          "text": [
            "Hola Mundo, ahora en Data Science\n"
          ]
        }
      ]
    },
    {
      "cell_type": "markdown",
      "source": [
        "19 - Crea un código que solicite una frase al usuario y luego imprima la misma frase sin espacios en blanco al principio y al final."
      ],
      "metadata": {
        "id": "EM3Ih405Y3oG"
      }
    },
    {
      "cell_type": "code",
      "source": [
        "frase_usuario = input('Escribe una frase: ')\n",
        "print(frase_usuario.strip())"
      ],
      "metadata": {
        "colab": {
          "base_uri": "https://localhost:8080/"
        },
        "id": "1U5o8F12YNOA",
        "outputId": "486f3e50-2195-4fa5-a85f-02fe99dc4a6c"
      },
      "execution_count": 24,
      "outputs": [
        {
          "output_type": "stream",
          "name": "stdout",
          "text": [
            "Escribe una frase:             Tengo sueño    \n",
            "Tengo sueño\n"
          ]
        }
      ]
    },
    {
      "cell_type": "markdown",
      "source": [
        "20 - Crea un código que solicite una frase al usuario y luego imprima la misma frase sin espacios en blanco al principio y al final, además de convertirla a minúsculas."
      ],
      "metadata": {
        "id": "Hxaq9nWdZqTM"
      }
    },
    {
      "cell_type": "code",
      "source": [
        "frase_usuario = input('Escribe una frase: ')\n",
        "print(frase_usuario.strip().lower())"
      ],
      "metadata": {
        "colab": {
          "base_uri": "https://localhost:8080/"
        },
        "id": "rdPc_rS7ZRuT",
        "outputId": "06f7bae3-5688-4380-bd47-5656acf6fd25"
      },
      "execution_count": 25,
      "outputs": [
        {
          "output_type": "stream",
          "name": "stdout",
          "text": [
            "Escribe una frase:       HACE FRIO\n",
            "hace frio\n"
          ]
        }
      ]
    },
    {
      "cell_type": "markdown",
      "source": [
        "21 - Crea un código que solicite una frase al usuario y luego imprima la misma frase con todas las vocales \"e\" reemplazadas por la letra \"f\"."
      ],
      "metadata": {
        "id": "geb_NRF7ZunV"
      }
    },
    {
      "cell_type": "code",
      "source": [
        "frase_usuario = input('Escribe una frase: ')\n",
        "print(frase_usuario.replace('e', 'f'))"
      ],
      "metadata": {
        "colab": {
          "base_uri": "https://localhost:8080/"
        },
        "id": "dlEeOdiGZljm",
        "outputId": "cec6774d-5a83-4cd3-8282-5b1e7e3d894c"
      },
      "execution_count": 26,
      "outputs": [
        {
          "output_type": "stream",
          "name": "stdout",
          "text": [
            "Escribe una frase: El dia es bello\n",
            "El dia fs bfllo\n"
          ]
        }
      ]
    },
    {
      "cell_type": "markdown",
      "source": [
        "22 - Crea un código que solicite una frase al usuario y luego imprima la misma frase con todas las vocales \"a\" reemplazadas por el carácter \"@\".\n"
      ],
      "metadata": {
        "id": "oydlFlRSa-OQ"
      }
    },
    {
      "cell_type": "code",
      "source": [
        "frase = input('Escribe una nueva frase: ')\n",
        "print(frase.replace('a','@'))"
      ],
      "metadata": {
        "colab": {
          "base_uri": "https://localhost:8080/"
        },
        "id": "tcL7nUi6Z_2V",
        "outputId": "cd29c0e8-ed03-4d0c-c08e-bdc3e29b62f6"
      },
      "execution_count": 27,
      "outputs": [
        {
          "output_type": "stream",
          "name": "stdout",
          "text": [
            "Escribe una nueva frase: La vida es bella\n",
            "L@ vid@ es bell@\n"
          ]
        }
      ]
    },
    {
      "cell_type": "markdown",
      "source": [
        "23 - Crea un código que solicite una frase al usuario y luego imprima la misma frase con todas las consonantes \"s\" reemplazadas por el carácter \"$\"."
      ],
      "metadata": {
        "id": "AIW2ckURbbcy"
      }
    },
    {
      "cell_type": "code",
      "source": [
        "frase = input('Escribe una nueva frase: ')\n",
        "print(frase.replace('s','$'))"
      ],
      "metadata": {
        "colab": {
          "base_uri": "https://localhost:8080/"
        },
        "id": "86bUMH9CbP4W",
        "outputId": "ac7d088b-cbdb-46d3-8a71-eb7fbc4dff68"
      },
      "execution_count": 28,
      "outputs": [
        {
          "output_type": "stream",
          "name": "stdout",
          "text": [
            "Escribe una nueva frase: Las salidas salen caras\n",
            "La$ $alida$ $alen cara$\n"
          ]
        }
      ]
    },
    {
      "cell_type": "markdown",
      "source": [
        "#Estructuras condicionales:"
      ],
      "metadata": {
        "id": "DKNDAayjLtE5"
      }
    },
    {
      "cell_type": "markdown",
      "source": [
        "1 - Escribe un programa que pida a la persona usuaria que proporcione dos números y muestre el número más grande.\n",
        "\n",
        "\n"
      ],
      "metadata": {
        "id": "w9n64LALL3kn"
      }
    },
    {
      "cell_type": "code",
      "source": [
        "n1 = int(input('Escribe un número: '))\n",
        "n2 = int(input('Escribe otro número: '))\n",
        "if n1 > n2:\n",
        "  print(f'El número más grande es: {n1}')\n",
        "elif n1 < n2:\n",
        "  print(f'El número más grande es: {n2}')\n",
        "else:\n",
        "  print('Los números son iguales.')"
      ],
      "metadata": {
        "colab": {
          "base_uri": "https://localhost:8080/"
        },
        "id": "JBgeAQpDLxSi",
        "outputId": "f6ce9f6b-0af4-417b-f4b8-13505a62a901"
      },
      "execution_count": 17,
      "outputs": [
        {
          "output_type": "stream",
          "name": "stdout",
          "text": [
            "Escribe un número: 6\n",
            "Escribe otro número: 9\n",
            "El número más grande es: 9\n"
          ]
        }
      ]
    },
    {
      "cell_type": "markdown",
      "source": [
        "2 - Escribe un programa que solicite el porcentaje de crecimiento de producción de una empresa e informe si hubo un crecimiento (porcentaje positivo) o una disminución (porcentaje negativo)."
      ],
      "metadata": {
        "id": "LBlmhQmUNewZ"
      }
    },
    {
      "cell_type": "code",
      "source": [
        "porcentaje_crecimiento = float(input('¿Cuál es el porcentaje de crecimiento de la empresa?: '))\n",
        "if porcentaje_crecimiento > 0:\n",
        "  print(f'La empresa ha crecido un {porcentaje_crecimiento} %.')\n",
        "elif porcentaje_crecimiento < 0:\n",
        "  print(f'La empresa ha decrecido un {porcentaje_crecimiento} %.')\n",
        "else:\n",
        "  print('La empresa no ha crecido ni decrecido.')\n"
      ],
      "metadata": {
        "colab": {
          "base_uri": "https://localhost:8080/"
        },
        "id": "qfkL_IoAMlNj",
        "outputId": "ca39ea79-97f3-4277-e120-5b13c98e4467"
      },
      "execution_count": 13,
      "outputs": [
        {
          "output_type": "stream",
          "name": "stdout",
          "text": [
            "¿Cuál es el porcentaje de crecimiento de la empresa?: 3.3\n",
            "La empresa ha crecido un 3.3 %.\n"
          ]
        }
      ]
    },
    {
      "cell_type": "markdown",
      "source": [
        "3 - Escribe un programa que determine si una letra proporcionada por la persona usuaria es una vocal o una consonante."
      ],
      "metadata": {
        "id": "PpQoZNzjOmxu"
      }
    },
    {
      "cell_type": "code",
      "source": [
        "letra = input('Escribe una letra: ').lower()\n",
        "if letra == 'a' or letra == 'e' or letra == 'i' or letra == 'o' or letra == 'u':\n",
        "  print('La letra es una vocal.')\n",
        "else:\n",
        "  print('La letra es una consonante.')"
      ],
      "metadata": {
        "colab": {
          "base_uri": "https://localhost:8080/"
        },
        "id": "7VefdoQeNl0N",
        "outputId": "49730326-bf71-4b92-9d3e-6a5487c4f862"
      },
      "execution_count": 22,
      "outputs": [
        {
          "output_type": "stream",
          "name": "stdout",
          "text": [
            "Escribe una letra: E\n",
            "La letra es una vocal.\n"
          ]
        }
      ]
    },
    {
      "cell_type": "markdown",
      "source": [
        "4 - Escribe un programa que lea valores promedio de precios de un modelo de automóvil durante 3 años consecutivos y muestre el valor más alto y más bajo entre esos tres años."
      ],
      "metadata": {
        "id": "daeURrWqPI1Z"
      }
    },
    {
      "cell_type": "code",
      "source": [
        "promedio_1 = float(input('Escribe el promedio de precios del primer año: '))\n",
        "promedio_2 = float(input('Escribe el promedio de precios del segundo año: '))\n",
        "promedio_3 = float(input('Escribe el promedio de precios del tercer año: '))\n",
        "if promedio_1 > promedio_2 and promedio_1 > promedio_3:\n",
        "  print(f'El promedio más alto fue: {promedio_1}')\n",
        "  if promedio_2 > promedio_3:\n",
        "    print(f'El promedio más bajo fue: {promedio_3}')\n",
        "  else:\n",
        "    print(f'El promedio más bajo fue: {promedio_2}')\n",
        "if promedio_2 > promedio_1 and promedio_2 > promedio_3:\n",
        "  print(f'El promedio más alto fue: {promedio_2}')\n",
        "  if promedio_1 > promedio_3:\n",
        "    print(f'El promedio más bajo fue: {promedio_3}')\n",
        "  else:\n",
        "    print(f'El promedio más bajo fue: {promedio_1}')\n",
        "if promedio_3 > promedio_1 and promedio_3 > promedio_2:\n",
        "  print(f'El promedio más alto fue: {promedio_3}')\n",
        "  if promedio_1 > promedio_2:\n",
        "    print(f'El promedio más bajo fue: {promedio_2}')\n",
        "  else:\n",
        "    print(f'El promedio más bajo fue: {promedio_1}')\n",
        ""
      ],
      "metadata": {
        "colab": {
          "base_uri": "https://localhost:8080/"
        },
        "id": "HeDMBcO-Ov4M",
        "outputId": "1b97e770-0cad-48af-d815-fe9e09e289a9"
      },
      "execution_count": 9,
      "outputs": [
        {
          "output_type": "stream",
          "name": "stdout",
          "text": [
            "Escribe el promedio de precios del primer año: 50\n",
            "Escribe el promedio de precios del segundo año: 68\n",
            "Escribe el promedio de precios del tercer año: 45\n",
            "El promedio más alto fue: 68.0\n",
            "El promedio más bajo fue: 45.0\n"
          ]
        }
      ]
    },
    {
      "cell_type": "markdown",
      "source": [
        "5 - Escribe un programa que pregunte sobre el precio de tres productos e indique cuál es el producto más barato para comprar."
      ],
      "metadata": {
        "id": "NzQD8joUSc39"
      }
    },
    {
      "cell_type": "code",
      "source": [
        "precio_producto1 = float(input('Escribe el precio del primer producto: '))\n",
        "precio_producto2 = float(input('Escribe el precio del segundo producto: '))\n",
        "precio_producto3 = float(input('Escribe el precio del tercer producto: '))\n",
        "\n",
        "if precio_producto1 < precio_producto2 and precio_producto1 < precio_producto3:\n",
        "  print(f'El producto más barato es el primero con un precio de: {precio_producto1}')\n",
        "elif precio_producto2 < precio_producto3:\n",
        "  print(f'El segundo producto es más barato con un precio de: {precio_producto2}')\n",
        "else:\n",
        "  print(f'El tercer producto es más barato con un precio de: {precio_producto3}')\n",
        "\n"
      ],
      "metadata": {
        "colab": {
          "base_uri": "https://localhost:8080/"
        },
        "id": "HHu1BULRPKZ_",
        "outputId": "db4193f4-c2ee-4d19-a5d8-31401489c796"
      },
      "execution_count": 34,
      "outputs": [
        {
          "output_type": "stream",
          "name": "stdout",
          "text": [
            "Escribe el precio del primer producto: 3000\n",
            "Escribe el precio del segundo producto: 2000\n",
            "Escribe el precio del tercer producto: 1000\n",
            "El tercer producto es más barato con un precio de: 1000.0\n"
          ]
        }
      ]
    },
    {
      "cell_type": "markdown",
      "source": [
        "6 - Escribe un programa que lea tres números y los muestre en orden descendente."
      ],
      "metadata": {
        "id": "ItiVDsqIYF4C"
      }
    },
    {
      "cell_type": "code",
      "source": [
        "n1 = int(input('Escribe el primer número: '))\n",
        "n2 = int(input('Escribe el segundo número: '))\n",
        "n3 = int(input('Escribe el tercer número: '))\n",
        "\n",
        "numeros = [n1,n2,n3]\n",
        "numeros = sorted(numeros, reverse=True)\n",
        "print(f'Los números en orden descendente son: {numeros}')"
      ],
      "metadata": {
        "colab": {
          "base_uri": "https://localhost:8080/"
        },
        "id": "yr-CEhJnXgOe",
        "outputId": "bdbc0ad2-b4e5-46eb-f11d-c3ba36febb01"
      },
      "execution_count": 37,
      "outputs": [
        {
          "output_type": "stream",
          "name": "stdout",
          "text": [
            "Escribe el primer número: 5\n",
            "Escribe el segundo número: 9\n",
            "Escribe el tercer número: 3\n",
            "Los números en orden descendente son: [9, 5, 3]\n"
          ]
        }
      ]
    },
    {
      "cell_type": "markdown",
      "source": [
        "7 -Escribe un programa que pregunte en qué turno estudia la persona usuaria (\"mañana\", \"tarde\" o \"noche\") y muestre el mensaje \"¡Buenos Días!\", \"¡Buenas Tardes!\", \"¡Buenas Noches!\" o \"Valor Inválido!\", según el caso."
      ],
      "metadata": {
        "id": "PG6MQPXda9PH"
      }
    },
    {
      "cell_type": "code",
      "source": [
        "turno = input('En qué turno estás estudiando? Elegir entre mañana,tarde o noche: ').lower()\n",
        "if turno == 'mañana':\n",
        "  print('¡Buenos días!')\n",
        "elif turno == 'tarde':\n",
        "  print('¡Buenas tardes!')\n",
        "elif turno == 'noche':\n",
        "  print('¡Buenas noches!')\n",
        "else:\n",
        "  print('Valor Inválido!')"
      ],
      "metadata": {
        "colab": {
          "base_uri": "https://localhost:8080/"
        },
        "id": "apiWqQw3ZuDT",
        "outputId": "39b1c627-b97f-4793-c739-98117f4fad28"
      },
      "execution_count": 42,
      "outputs": [
        {
          "output_type": "stream",
          "name": "stdout",
          "text": [
            "En qué turno estás estudiando? Elegir entre mañana,tarde o noche: ki{pja\n",
            "Valor Inválido!\n"
          ]
        }
      ]
    },
    {
      "cell_type": "code",
      "source": [],
      "metadata": {
        "id": "ewyJOKT2an8u"
      },
      "execution_count": null,
      "outputs": []
    }
  ]
}